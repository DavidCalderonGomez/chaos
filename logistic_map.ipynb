{
 "cells": [
  {
   "cell_type": "markdown",
   "id": "cc44f287-6565-49bf-9d4f-ea7537a6f463",
   "metadata": {},
   "source": [
    "### The logistic map\n",
    "\n",
    "$x_{n+1}=r x_{n}(1-x_{n})$"
   ]
  },
  {
   "cell_type": "code",
   "execution_count": 1,
   "id": "a6df1d74-974b-4325-8ec9-8762d103d3d4",
   "metadata": {},
   "outputs": [],
   "source": [
    "import numpy as np\n",
    "import matplotlib.pyplot as plt\n",
    "\n",
    "it = 2**6\n",
    "eps = 10**-5"
   ]
  },
  {
   "cell_type": "code",
   "execution_count": 10,
   "id": "43cd69c9-1503-46f1-9d47-2d254eb6aa4f",
   "metadata": {
    "tags": []
   },
   "outputs": [],
   "source": [
    "def iterate(r,X):\n",
    "    X[0] = np.random.random() #first element random\n",
    "    for i in range(1,it): #the next calculated with this hundred times\n",
    "        X[i] = mapping(r,X[i-1]) #using the mapping\n",
    "    return X "
   ]
  },
  {
   "cell_type": "code",
   "execution_count": 11,
   "id": "932a0f3d-122b-43da-918d-bbc1a3b7438d",
   "metadata": {
    "tags": []
   },
   "outputs": [],
   "source": [
    "def mapping(r,x):\n",
    "    return r*x*(1-x)"
   ]
  },
  {
   "cell_type": "code",
   "execution_count": 12,
   "id": "007b069b-16bc-4346-8f79-8abe79be564f",
   "metadata": {
    "tags": []
   },
   "outputs": [],
   "source": [
    "def main():\n",
    "    for ii in range(len(R)) :\n",
    "        iterate(R[ii],M[ii])"
   ]
  },
  {
   "cell_type": "code",
   "execution_count": 26,
   "id": "4cf48bc0-2a07-4ddd-894f-16b99a9175ec",
   "metadata": {
    "tags": []
   },
   "outputs": [],
   "source": [
    "R = np.linspace(1,4,200000)\n",
    "M = np.zeros((len(R),it))"
   ]
  },
  {
   "cell_type": "code",
   "execution_count": 27,
   "id": "4a6d5601-1f2a-4fd1-bf0f-ba3ad11a5091",
   "metadata": {
    "tags": []
   },
   "outputs": [],
   "source": [
    "main()"
   ]
  },
  {
   "cell_type": "code",
   "execution_count": 28,
   "id": "0fcfe0f6-c50a-4112-aed8-60305a99b53f",
   "metadata": {
    "tags": []
   },
   "outputs": [],
   "source": [
    "filenames=[]\n",
    "\n",
    "for ii in range(it):\n",
    "    ax = plt.plot(M[:,ii],'.k',ms=0.05,label = f'it = {ii}')\n",
    "    plt.legend(loc=2)\n",
    "    \n",
    "    filename = f'logistic_gif/{ii:003}.png'\n",
    "    filenames.append(filename)\n",
    "    plt.savefig(filename,dpi = 200)    \n",
    "    plt.close('all')"
   ]
  },
  {
   "cell_type": "code",
   "execution_count": 29,
   "id": "1b1ae77e-d3d4-4bd7-b3bf-65e930613ef2",
   "metadata": {
    "tags": []
   },
   "outputs": [],
   "source": [
    "import imageio"
   ]
  },
  {
   "cell_type": "code",
   "execution_count": 30,
   "id": "955b6362-804a-4ca0-b74e-7c19b4fabe83",
   "metadata": {
    "tags": []
   },
   "outputs": [],
   "source": [
    "with imageio.get_writer('logistic.gif',duration=500) as writer:\n",
    "    for filename in filenames:\n",
    "        image = imageio.v2.imread(filename)\n",
    "        writer.append_data(image)"
   ]
  }
 ],
 "metadata": {
  "kernelspec": {
   "display_name": "Python 3 (ipykernel)",
   "language": "python",
   "name": "python3"
  },
  "language_info": {
   "codemirror_mode": {
    "name": "ipython",
    "version": 3
   },
   "file_extension": ".py",
   "mimetype": "text/x-python",
   "name": "python",
   "nbconvert_exporter": "python",
   "pygments_lexer": "ipython3",
   "version": "3.11.4"
  }
 },
 "nbformat": 4,
 "nbformat_minor": 5
}
